{
  "nbformat": 4,
  "nbformat_minor": 0,
  "metadata": {
    "colab": {
      "provenance": [],
      "authorship_tag": "ABX9TyOP7bw20iNOB3z52nluaD06",
      "include_colab_link": true
    },
    "kernelspec": {
      "name": "python3",
      "display_name": "Python 3"
    },
    "language_info": {
      "name": "python"
    }
  },
  "cells": [
    {
      "cell_type": "markdown",
      "metadata": {
        "id": "view-in-github",
        "colab_type": "text"
      },
      "source": [
        "<a href=\"https://colab.research.google.com/github/Aldistwn29/Numpay/blob/main/Numpy_part3.ipynb\" target=\"_parent\"><img src=\"https://colab.research.google.com/assets/colab-badge.svg\" alt=\"Open In Colab\"/></a>"
      ]
    },
    {
      "cell_type": "code",
      "execution_count": 2,
      "metadata": {
        "id": "Ex8dB4mHK35p"
      },
      "outputs": [],
      "source": [
        "import numpy as np"
      ]
    },
    {
      "cell_type": "markdown",
      "source": [
        "# Array Itration"
      ],
      "metadata": {
        "id": "Alx6ZCv7LGK_"
      }
    },
    {
      "cell_type": "code",
      "source": [
        "a = np.arange(0,60,5)\n",
        "a = a.reshape(3,4)\n",
        "\n",
        "print('Array Asli:')\n",
        "print(a)\n",
        "print('\\n')\n",
        "\n",
        "print('Array yang telah di modifikasi:')\n",
        "for x in np.nditer(a):\n",
        "  print(x, end= ' ')"
      ],
      "metadata": {
        "colab": {
          "base_uri": "https://localhost:8080/"
        },
        "id": "oNAowLYPTkCx",
        "outputId": "3086d765-dfcf-4a22-de67-4c627482b4e1"
      },
      "execution_count": null,
      "outputs": [
        {
          "output_type": "stream",
          "name": "stdout",
          "text": [
            "Array Asli:\n",
            "[[ 0  5 10 15]\n",
            " [20 25 30 35]\n",
            " [40 45 50 55]]\n",
            "\n",
            "\n",
            "Array yang telah di modifikasi:\n",
            "0 5 10 15 20 25 30 35 40 45 50 55 "
          ]
        }
      ]
    },
    {
      "cell_type": "code",
      "source": [
        "# Urutan iterasi dipilih agar sesui dengan tata letak mencari array,\n",
        "# tanpa mempertimbangkan urutan tertentu\n",
        "# contoh 2\n",
        "a = np.arange(0,60,5)\n",
        "a = a.reshape(3,4)\n",
        "\n",
        "print('Array Asli:')\n",
        "print(a)\n",
        "print('\\n')\n",
        "\n",
        "print('Array yg di transponse:')\n",
        "b = a.T\n",
        "print(b)\n",
        "print('\\n')\n",
        "\n",
        "print('Array yg telah di modifikasi:')\n",
        "for x in np.nditer(b):\n",
        "  print(x, end= ' ')"
      ],
      "metadata": {
        "colab": {
          "base_uri": "https://localhost:8080/"
        },
        "id": "bFOwOIpRW_q_",
        "outputId": "e4dc1c1d-52ac-4eb2-bb30-5a6150cbddb6"
      },
      "execution_count": null,
      "outputs": [
        {
          "output_type": "stream",
          "name": "stdout",
          "text": [
            "Array Asli:\n",
            "[[ 0  5 10 15]\n",
            " [20 25 30 35]\n",
            " [40 45 50 55]]\n",
            "\n",
            "\n",
            "Array yg di transponse:\n",
            "[[ 0 20 40]\n",
            " [ 5 25 45]\n",
            " [10 30 50]\n",
            " [15 35 55]]\n",
            "\n",
            "\n",
            "Array yg telah di modifikasi:\n",
            "0 5 10 15 20 25 30 35 40 45 50 55 "
          ]
        }
      ]
    },
    {
      "cell_type": "markdown",
      "source": [
        "# Itrasion orde"
      ],
      "metadata": {
        "id": "_1sKofNcYHsX"
      }
    },
    {
      "cell_type": "code",
      "source": [
        "# contoh 3\n",
        "a = np.arange(0,60,5)\n",
        "a = a.reshape(3,4)\n",
        "\n",
        "print('Array Asli:')\n",
        "print(a)\n",
        "print('\\n')\n",
        "\n",
        "print('Array yg di transponse:')\n",
        "b = a.T\n",
        "print(b)\n",
        "print('\\n')\n",
        "\n",
        "print('urutkan dalam C-style order:')\n",
        "c = b.copy(order='C')\n",
        "print(c)\n",
        "for x in np.nditer(c):\n",
        "  print(x, end=' ')\n",
        "\n",
        "print('\\n')\n",
        "\n",
        "print('urutkan dalam F-style order:')\n",
        "d = b.copy(order='F')\n",
        "print(c)\n",
        "for x in np.nditer(d):\n",
        "  print(x, end=' ')"
      ],
      "metadata": {
        "colab": {
          "base_uri": "https://localhost:8080/"
        },
        "id": "paKN46y3YM03",
        "outputId": "1a3f4927-9082-4dbc-97a1-2cee2ee5d5b1"
      },
      "execution_count": null,
      "outputs": [
        {
          "output_type": "stream",
          "name": "stdout",
          "text": [
            "Array Asli:\n",
            "[[ 0  5 10 15]\n",
            " [20 25 30 35]\n",
            " [40 45 50 55]]\n",
            "\n",
            "\n",
            "Array yg di transponse:\n",
            "[[ 0 20 40]\n",
            " [ 5 25 45]\n",
            " [10 30 50]\n",
            " [15 35 55]]\n",
            "\n",
            "\n",
            "urutkan dalam C-style order:\n",
            "[[ 0 20 40]\n",
            " [ 5 25 45]\n",
            " [10 30 50]\n",
            " [15 35 55]]\n",
            "0 20 40 5 25 45 10 30 50 15 35 55 \n",
            "\n",
            "urutkan dalam F-style order:\n",
            "[[ 0 20 40]\n",
            " [ 5 25 45]\n",
            " [10 30 50]\n",
            " [15 35 55]]\n",
            "0 5 10 15 20 25 30 35 40 45 50 55 "
          ]
        }
      ]
    },
    {
      "cell_type": "code",
      "source": [
        "# contoh 4\n",
        "a = np.arange(0,60,5)\n",
        "a = a.reshape(3,4)\n",
        "\n",
        "print('Array Asli:')\n",
        "print(a)\n",
        "print('\\n')\n",
        "\n",
        "print('urutkan dalam C-style order:')\n",
        "for x in np.nditer(a, order='C'):\n",
        "  print(x, end=' ')\n",
        "\n",
        "print('\\n')\n",
        "\n",
        "print('urutkan dalam C-style order:')\n",
        "for x in np.nditer(a, order='F'):\n",
        "  print(x, end=' ')"
      ],
      "metadata": {
        "colab": {
          "base_uri": "https://localhost:8080/"
        },
        "id": "0LK0urFQZt0E",
        "outputId": "38ab1a16-429e-4e72-eeac-9055d0d49161"
      },
      "execution_count": null,
      "outputs": [
        {
          "output_type": "stream",
          "name": "stdout",
          "text": [
            "Array Asli:\n",
            "[[ 0  5 10 15]\n",
            " [20 25 30 35]\n",
            " [40 45 50 55]]\n",
            "\n",
            "\n",
            "urutkan dalam C-style order:\n",
            "0 5 10 15 20 25 30 35 40 45 50 55 \n",
            "\n",
            "urutkan dalam C-style order:\n",
            "0 20 40 5 25 45 10 30 50 15 35 55 "
          ]
        }
      ]
    },
    {
      "cell_type": "markdown",
      "source": [
        "# Modifikasi nilai elemen array"
      ],
      "metadata": {
        "id": "Sx2l8tFPaOPu"
      }
    },
    {
      "cell_type": "code",
      "source": [
        "a = np.arange(0,60,5)\n",
        "a = a.reshape(3,4)\n",
        "\n",
        "print('Array Asli:')\n",
        "print(a)\n",
        "print('\\n')\n",
        "\n",
        "for x in np.nditer(a, op_flags= ['readwrite']):\n",
        "  x[...] = 2*x\n",
        "print('Array Setelah di modifikasi:')\n",
        "print(a)"
      ],
      "metadata": {
        "colab": {
          "base_uri": "https://localhost:8080/"
        },
        "id": "S_DJtA-1aipK",
        "outputId": "8acc1d80-3e1b-4e0c-8eea-23c224722ce6"
      },
      "execution_count": null,
      "outputs": [
        {
          "output_type": "stream",
          "name": "stdout",
          "text": [
            "Array Asli:\n",
            "[[ 0  5 10 15]\n",
            " [20 25 30 35]\n",
            " [40 45 50 55]]\n",
            "\n",
            "\n",
            "Array Setelah di modifikasi:\n",
            "[[  0  10  20  30]\n",
            " [ 40  50  60  70]\n",
            " [ 80  90 100 110]]\n"
          ]
        }
      ]
    },
    {
      "cell_type": "markdown",
      "source": [
        "# Eksternal loop"
      ],
      "metadata": {
        "id": "2zCuJ5qlbIzK"
      }
    },
    {
      "cell_type": "code",
      "source": [
        "a = np.arange(0,60,5)\n",
        "a = a.reshape(3,4)\n",
        "\n",
        "print('Array Asli:')\n",
        "print(a)\n",
        "print('\\n')\n",
        "\n",
        "print('Array Setelah dimodifikasi:')\n",
        "for x in np.nditer(a, flags= ['external_loop'], order='F'):\n",
        "  print(x, end=' ')"
      ],
      "metadata": {
        "colab": {
          "base_uri": "https://localhost:8080/"
        },
        "id": "yWswGGnxbIVc",
        "outputId": "08c74bee-c623-49e2-f0ea-e52bf7443d76"
      },
      "execution_count": null,
      "outputs": [
        {
          "output_type": "stream",
          "name": "stdout",
          "text": [
            "Array Asli:\n",
            "[[ 0  5 10 15]\n",
            " [20 25 30 35]\n",
            " [40 45 50 55]]\n",
            "\n",
            "\n",
            "Array Setelah dimodifikasi:\n",
            "[ 0 20 40] [ 5 25 45] [10 30 50] [15 35 55] "
          ]
        }
      ]
    },
    {
      "cell_type": "markdown",
      "source": [
        "# Brodcasting itrasi array"
      ],
      "metadata": {
        "id": "w_sOdEiucWqC"
      }
    },
    {
      "cell_type": "code",
      "source": [
        "a = np.arange(0,60,5)\n",
        "a = a.reshape(3,4)\n",
        "\n",
        "print('Array Asli:')\n",
        "print(a)\n",
        "print('\\n')\n",
        "\n",
        "print('Array kedua:')\n",
        "b = np.array([1,2,3,4], dtype=int)\n",
        "print(b)\n",
        "print('\\n')\n",
        "\n",
        "print('Array yg telah dimodifikasi:')\n",
        "for x,y in np.nditer([a,b]):\n",
        "  print(\"%d:%d\" % (x,y), end=' ')"
      ],
      "metadata": {
        "colab": {
          "base_uri": "https://localhost:8080/"
        },
        "id": "4CPSXDxJcWR2",
        "outputId": "5ea42191-4301-4c3d-e0f7-54e4da47acba"
      },
      "execution_count": null,
      "outputs": [
        {
          "output_type": "stream",
          "name": "stdout",
          "text": [
            "Array Asli:\n",
            "[[ 0  5 10 15]\n",
            " [20 25 30 35]\n",
            " [40 45 50 55]]\n",
            "\n",
            "\n",
            "Array kedua:\n",
            "[1 2 3 4]\n",
            "\n",
            "\n",
            "Array yg telah dimodifikasi:\n",
            "0:1 5:2 10:3 15:4 20:1 25:2 30:3 35:4 40:1 45:2 50:3 55:4 "
          ]
        }
      ]
    },
    {
      "cell_type": "markdown",
      "source": [
        "# Numpy for Mathematics"
      ],
      "metadata": {
        "id": "6eWYHtm2mSrH"
      }
    },
    {
      "cell_type": "markdown",
      "source": [
        "Fungsi Trigonometri\n",
        "NumPy memiliki fungsi trigonometri standar yg mengembalikan rasio trigonometri untuk sudut tertentu dan radian."
      ],
      "metadata": {
        "id": "zG_MSg0jmZH9"
      }
    },
    {
      "cell_type": "code",
      "source": [
        "a = np.array([0,30,45,60,90])\n",
        "\n",
        "print('Nilai sin dari yg berbeda-beda:')\n",
        "# konversi radian dengan menampilkan dengan pi/180\n",
        "print(np.sin(a*np.pi/180))\n",
        "print('\\n')\n",
        "\n",
        "print('Nilai kosinus dari yg berbeda-beda:')\n",
        "print(np.cos(a*np.pi/180))\n",
        "print('\\n')\n",
        "\n",
        "print('Nilai tangent dari yg berbeda-beda:')\n",
        "print(np.tan(a*np.pi/180))\n",
        "print('\\n')"
      ],
      "metadata": {
        "colab": {
          "base_uri": "https://localhost:8080/"
        },
        "id": "YvPnvkxFn2ZP",
        "outputId": "46800e9c-c88a-412e-ba46-33fa9c626455"
      },
      "execution_count": null,
      "outputs": [
        {
          "output_type": "stream",
          "name": "stdout",
          "text": [
            "Nilai sin dari yg berbeda-beda:\n",
            "[0.         0.5        0.70710678 0.8660254  1.        ]\n",
            "\n",
            "\n",
            "Nilai kosinus dari yg berbeda-beda:\n",
            "[1.00000000e+00 8.66025404e-01 7.07106781e-01 5.00000000e-01\n",
            " 6.12323400e-17]\n",
            "\n",
            "\n",
            "Nilai tangent dari yg berbeda-beda:\n",
            "[0.00000000e+00 5.77350269e-01 1.00000000e+00 1.73205081e+00\n",
            " 1.63312394e+16]\n",
            "\n",
            "\n"
          ]
        }
      ]
    },
    {
      "cell_type": "code",
      "source": [
        "a = np.array([0,30,45,60,90])\n",
        "\n",
        "print('Array dengan Niali Sinus:')\n",
        "sin = np.sin(a*np.pi/180)\n",
        "print(sin)\n",
        "print('\\n')\n",
        "\n",
        "\n",
        "print('Hitung invers(kebalikan) sinus dari, Nilai yg dikembalikan dalam radian:')\n",
        "inv = np.arcsin(sin)\n",
        "print(sin)\n",
        "print('\\n')\n",
        "\n",
        "print('Periksa hasil dengan mengkonversi ke drajat:')\n",
        "print(np.degrees(inv))\n",
        "print('\\n')\n",
        "\n",
        "print('Array dengan Niali cosinus:')\n",
        "cos = np.cos(a*np.pi/180)\n",
        "print(cos)\n",
        "print('\\n')\n",
        "\n",
        "\n",
        "print('Hitung invers cosinus:')\n",
        "inv = np.arccos(cos)\n",
        "print(inv)\n",
        "print('\\n')\n",
        "\n",
        "print('Periksa hasil dengan mengkonversi ke drajat:')\n",
        "print(np.degrees(inv))\n",
        "print('\\n')\n",
        "\n",
        "print('Array dengan Niali Tan:')\n",
        "tan = np.tan(a*np.pi/180)\n",
        "print(tan)\n",
        "print('\\n')\n",
        "\n",
        "\n",
        "print('Hitung invers Tan dari:')\n",
        "inv = np.arctan(tan)\n",
        "print(inv)\n",
        "print('\\n')\n",
        "\n",
        "print('Periksa hasil dengan mengkonversi ke drajat:')\n",
        "print(np.degrees(inv))\n",
        "print('\\n')"
      ],
      "metadata": {
        "colab": {
          "base_uri": "https://localhost:8080/"
        },
        "id": "1f0NNs4FqpNs",
        "outputId": "e290d84b-6de1-4abe-89b3-a963e976fb49"
      },
      "execution_count": null,
      "outputs": [
        {
          "output_type": "stream",
          "name": "stdout",
          "text": [
            "Array dengan Niali Sinus:\n",
            "[0.         0.5        0.70710678 0.8660254  1.        ]\n",
            "\n",
            "\n",
            "Hitung invers(kebalikan) sinus dari, Nilai yg dikembalikan dalam radian:\n",
            "[0.         0.5        0.70710678 0.8660254  1.        ]\n",
            "\n",
            "\n",
            "Periksa hasil dengan mengkonversi ke drajat:\n",
            "[ 0. 30. 45. 60. 90.]\n",
            "\n",
            "\n",
            "Array dengan Niali cosinus:\n",
            "[1.00000000e+00 8.66025404e-01 7.07106781e-01 5.00000000e-01\n",
            " 6.12323400e-17]\n",
            "\n",
            "\n",
            "Hitung invers cosinus:\n",
            "[0.         0.52359878 0.78539816 1.04719755 1.57079633]\n",
            "\n",
            "\n",
            "Periksa hasil dengan mengkonversi ke drajat:\n",
            "[ 0. 30. 45. 60. 90.]\n",
            "\n",
            "\n",
            "Array dengan Niali Tan:\n",
            "[0.00000000e+00 5.77350269e-01 1.00000000e+00 1.73205081e+00\n",
            " 1.63312394e+16]\n",
            "\n",
            "\n",
            "Hitung invers Tan dari:\n",
            "[0.         0.52359878 0.78539816 1.04719755 1.57079633]\n",
            "\n",
            "\n",
            "Periksa hasil dengan mengkonversi ke drajat:\n",
            "[ 0. 30. 45. 60. 90.]\n",
            "\n",
            "\n"
          ]
        }
      ]
    },
    {
      "cell_type": "markdown",
      "source": [
        "# Fungsi Pembulatan dengan numpy.round"
      ],
      "metadata": {
        "id": "wT87Z0HkunOw"
      }
    },
    {
      "cell_type": "markdown",
      "source": [
        "numpy.around(a, decimals)"
      ],
      "metadata": {
        "id": "KKh87ECRutzb"
      }
    },
    {
      "cell_type": "code",
      "source": [
        "a = np.array([1.0,5.55,123,0.567,25.532])\n",
        "\n",
        "print('Array asli')\n",
        "print(a)\n",
        "print('\\n')\n",
        "\n",
        "print('Array Setelah Pembulatan:')\n",
        "print(np.around(a))\n",
        "# membulatkan hanya 1 angka di belakang koma\n",
        "print(np.around(a, decimals=1))"
      ],
      "metadata": {
        "colab": {
          "base_uri": "https://localhost:8080/"
        },
        "id": "539SiJmruzYx",
        "outputId": "159c3026-3200-4eb3-9bb9-3c71ee7b52df"
      },
      "execution_count": null,
      "outputs": [
        {
          "output_type": "stream",
          "name": "stdout",
          "text": [
            "Array asli\n",
            "[  1.      5.55  123.      0.567  25.532]\n",
            "\n",
            "\n",
            "Array Setelah Pembulatan:\n",
            "[  1.   6. 123.   1.  26.]\n",
            "[  1.    5.6 123.    0.6  25.5]\n"
          ]
        }
      ]
    },
    {
      "cell_type": "markdown",
      "source": [
        "np.floor"
      ],
      "metadata": {
        "id": "4VOtuJWwv3HB"
      }
    },
    {
      "cell_type": "markdown",
      "source": [
        "Fungsi ini mengembalikan bilangan bulat terbesar yg tidak lebih besar dari prameter input. Dasar skalar x adalah bilangan bulat terbesar i, sehingga i <= x. Perhatikan bahwa dalam python, floor selalu dibulatkan dari 0."
      ],
      "metadata": {
        "id": "Ld2ivp3uv5u8"
      }
    },
    {
      "cell_type": "code",
      "source": [
        "a = np.array([-1.7,1.5,-0.2,0.6,10.])\n",
        "\n",
        "print('Array Asli:')\n",
        "print(a)\n",
        "print('\\n')\n",
        "\n",
        "print('Flooring array:')\n",
        "print(np.floor(a))"
      ],
      "metadata": {
        "colab": {
          "base_uri": "https://localhost:8080/"
        },
        "id": "TZxjtYM_wZWM",
        "outputId": "5c8d3749-0a03-4306-ba23-44ff180e27f4"
      },
      "execution_count": null,
      "outputs": [
        {
          "output_type": "stream",
          "name": "stdout",
          "text": [
            "Array Asli:\n",
            "[-1.7  1.5 -0.2  0.6 10. ]\n",
            "\n",
            "\n",
            "Flooring array:\n",
            "[-2.  1. -1.  0. 10.]\n"
          ]
        }
      ]
    },
    {
      "cell_type": "markdown",
      "source": [
        "# np.ceil"
      ],
      "metadata": {
        "id": "6s_my5XuuSGa"
      }
    },
    {
      "cell_type": "markdown",
      "source": [
        "Fungsi ceil() mengembalikan plafon nilai input, yaitu ceil skalar x adalah bilangan bulat terkecil i, sehingga i >= x."
      ],
      "metadata": {
        "id": "rnnrZhehuY2L"
      }
    },
    {
      "cell_type": "code",
      "source": [
        "a = np.array([-1.6,1.6,-1.3,0.7,10])\n",
        "\n",
        "print('Array Asli:')\n",
        "print(a)\n",
        "print('\\n')\n",
        "\n",
        "print('ceilling array:')\n",
        "print(np.ceil(a))"
      ],
      "metadata": {
        "colab": {
          "base_uri": "https://localhost:8080/"
        },
        "id": "UgGyyhL4u0RO",
        "outputId": "8bb8c897-ca61-49f7-ea83-4769453cb9b5"
      },
      "execution_count": null,
      "outputs": [
        {
          "output_type": "stream",
          "name": "stdout",
          "text": [
            "Array Asli:\n",
            "[-1.6  1.6 -1.3  0.7 10. ]\n",
            "\n",
            "\n",
            "ceilling array:\n",
            "[-1.  2. -1.  1. 10.]\n"
          ]
        }
      ]
    },
    {
      "cell_type": "markdown",
      "source": [
        "# Oprasi Aritmatika"
      ],
      "metadata": {
        "id": "gimcyU0_vZtx"
      }
    },
    {
      "cell_type": "markdown",
      "source": [
        "di numpy ada fungsi untuk melakukan penjumlahan, pengurangan, perkalian dan pembagian."
      ],
      "metadata": {
        "id": "pqfNvvduvezw"
      }
    },
    {
      "cell_type": "code",
      "source": [
        "a = np.arange(9, dtype=np.float_).reshape(3,3)\n",
        "\n",
        "print('Array Asli:')\n",
        "print(a)\n",
        "print('\\n')\n",
        "\n",
        "print('Array kedua:')\n",
        "b = np.array([1,2,3])\n",
        "print(b)\n",
        "print('\\n')\n",
        "\n",
        "# melakukan brodcasting\n",
        "print('Penjumlahan 2 Array:')\n",
        "print(np.add(a,b))\n",
        "print('\\n')\n",
        "\n",
        "print('Pengurangan 2 Array:')\n",
        "print(np.subtract(a,b))\n",
        "print('\\n')\n",
        "\n",
        "print('Perkalian 2 Array:')\n",
        "print(np.multiply(a,b))\n",
        "print('\\n')\n",
        "\n",
        "print('Pembagian 2 Array:')\n",
        "print(np.divide(a,b))"
      ],
      "metadata": {
        "colab": {
          "base_uri": "https://localhost:8080/"
        },
        "id": "uDp1MyrKvnUW",
        "outputId": "62a68147-5d68-4015-93f4-3ff81077adda"
      },
      "execution_count": null,
      "outputs": [
        {
          "output_type": "stream",
          "name": "stdout",
          "text": [
            "Array Asli:\n",
            "[[0. 1. 2.]\n",
            " [3. 4. 5.]\n",
            " [6. 7. 8.]]\n",
            "\n",
            "\n",
            "Array kedua:\n",
            "[1 2 3]\n",
            "\n",
            "\n",
            "Penjumlahan 2 Array:\n",
            "[[ 1.  3.  5.]\n",
            " [ 4.  6.  8.]\n",
            " [ 7.  9. 11.]]\n",
            "\n",
            "\n",
            "Pengurangan 2 Array:\n",
            "[[-1. -1. -1.]\n",
            " [ 2.  2.  2.]\n",
            " [ 5.  5.  5.]]\n",
            "\n",
            "\n",
            "Perkalian 2 Array:\n",
            "[[ 0.  2.  6.]\n",
            " [ 3.  8. 15.]\n",
            " [ 6. 14. 24.]]\n",
            "\n",
            "\n",
            "Pembagian 2 Array:\n",
            "[[0.         0.5        0.66666667]\n",
            " [3.         2.         1.66666667]\n",
            " [6.         3.5        2.66666667]]\n"
          ]
        }
      ]
    },
    {
      "cell_type": "markdown",
      "source": [
        "Operasi Pangkat dua dengan np.power"
      ],
      "metadata": {
        "id": "wyZjx31SzLa6"
      }
    },
    {
      "cell_type": "code",
      "source": [
        "a = np.array([10,100,1000])\n",
        "\n",
        "print('Array Asli:')\n",
        "print(a)\n",
        "\n",
        "print('Menggunakan power function:')\n",
        "print(np.power(a,3))\n",
        "print('\\n')\n",
        "\n",
        "print('Array kedua:')\n",
        "b = np.array([1,2,3])\n",
        "print(b)\n",
        "\n",
        "print('Menggunakan power function:')\n",
        "print(np.power(a,b))"
      ],
      "metadata": {
        "colab": {
          "base_uri": "https://localhost:8080/"
        },
        "id": "hkBxCAQXzQ3D",
        "outputId": "affc3f85-f4b1-417c-876f-616bef687bc6"
      },
      "execution_count": null,
      "outputs": [
        {
          "output_type": "stream",
          "name": "stdout",
          "text": [
            "Array Asli:\n",
            "[  10  100 1000]\n",
            "Menggunakan power function:\n",
            "[      1000    1000000 1000000000]\n",
            "\n",
            "\n",
            "Array kedua:\n",
            "[1 2 3]\n",
            "Menggunakan power function:\n",
            "[        10      10000 1000000000]\n"
          ]
        }
      ]
    },
    {
      "cell_type": "markdown",
      "source": [
        "Mengambil nilai sisa dengan np.mod() atau np.remainder()"
      ],
      "metadata": {
        "id": "d63Qv-lI1bke"
      }
    },
    {
      "cell_type": "code",
      "source": [
        "a = np.array([20,30,40,50])\n",
        "b = np.array([2,4,5,6])\n",
        "\n",
        "print('Array pertama:')\n",
        "print(a)\n",
        "print('\\n')\n",
        "\n",
        "print('Array Kedua:')\n",
        "print(b)\n",
        "print('\\n')\n",
        "\n",
        "print('Menggunakan mod():')\n",
        "print(np.mod(a,b))\n",
        "print('\\n')\n",
        "\n",
        "print('menggunakan remainder():')\n",
        "print(np.remainder(a,b))\n",
        "print('\\n')"
      ],
      "metadata": {
        "colab": {
          "base_uri": "https://localhost:8080/"
        },
        "id": "Ghj0FDO52Gjk",
        "outputId": "8296d05b-e5ea-47eb-a58e-e061d964f91a"
      },
      "execution_count": null,
      "outputs": [
        {
          "output_type": "stream",
          "name": "stdout",
          "text": [
            "Array pertama:\n",
            "[20 30 40 50]\n",
            "\n",
            "\n",
            "Array Kedua:\n",
            "[2 4 5 6]\n",
            "\n",
            "\n",
            "Menggunakan mod():\n",
            "[0 2 0 2]\n",
            "\n",
            "\n",
            "menggunakan remainder():\n",
            "[0 2 0 2]\n",
            "\n",
            "\n"
          ]
        }
      ]
    },
    {
      "cell_type": "markdown",
      "source": [
        "# Fungsi Statistika"
      ],
      "metadata": {
        "id": "gMxaE8xF4bBQ"
      }
    },
    {
      "cell_type": "code",
      "source": [
        "# mencari nilai minimum dan maximum dalam Suatu array\n",
        "\n",
        "a = np.array([[3,7,5],[8,4,3],[2,3,9]])\n",
        "\n",
        "print('Array Asli:')\n",
        "print(a)\n",
        "print('\\n')\n",
        "\n",
        "print('Menggunakan amin() function:')\n",
        "print(np.amin(a))\n",
        "print('\\n')\n",
        "\n",
        "print('menggunakan amin() fungsion berdasarkan baris:')\n",
        "print(np.amin(a, axis=0))\n",
        "print('\\n')\n",
        "\n",
        "print('menggunakan amin() fungsion berdasarkan colom:')\n",
        "print(np.amin(a, axis=1))\n",
        "print('\\n')\n",
        "\n",
        "print('menggunakan amax() fungsion:')\n",
        "print(np.amax(a))\n",
        "print('\\n')\n",
        "\n",
        "print('menggunakan amax() fungsion berdasarkan colum:')\n",
        "print(np.amax(a, axis=0))\n",
        "print('\\n')"
      ],
      "metadata": {
        "colab": {
          "base_uri": "https://localhost:8080/"
        },
        "id": "s6pB-2Cw4eLy",
        "outputId": "de92d1bf-d6aa-4b65-c3cd-ea8b51d07d50"
      },
      "execution_count": null,
      "outputs": [
        {
          "output_type": "stream",
          "name": "stdout",
          "text": [
            "Array Asli:\n",
            "[[3 7 5]\n",
            " [8 4 3]\n",
            " [2 3 9]]\n",
            "\n",
            "\n",
            "Menggunakan amin() function:\n",
            "2\n",
            "\n",
            "\n",
            "menggunakan amin() fungsion berdasarkan baris:\n",
            "[2 3 3]\n",
            "\n",
            "\n",
            "menggunakan amin() fungsion berdasarkan colom:\n",
            "[3 3 2]\n",
            "\n",
            "\n",
            "menggunakan amax() fungsion:\n",
            "9\n",
            "\n",
            "\n",
            "menggunakan amax() fungsion berdasarkan colum:\n",
            "[8 7 9]\n",
            "\n",
            "\n"
          ]
        }
      ]
    },
    {
      "cell_type": "markdown",
      "source": [
        "np.percentile\n",
        "\n",
        "Persentil (atau satu persentil) adalah ukuran yang digunakan dalam statistik yang menunjukkan nilai di bawah persentase pengamatan tertentu dalam kelompok pengamatan.\n",
        "\n",
        "numpy.percentile(a, q, axis)\n",
        "\n",
        "a : Input array\n",
        "\n",
        "q : Persentil yang akan dihitung harus antara 0-100\n",
        "\n",
        "axis : sumbu"
      ],
      "metadata": {
        "id": "417eggG78fTn"
      }
    },
    {
      "cell_type": "markdown",
      "source": [
        "Persentil untuk nilai dalam kumpulan data tertentu dapat dihitung menggunakan rumus:\n",
        "\n",
        "n = (P/100) x N\n",
        "\n",
        "di mana N = jumlah nilai dalam kumpulan data, P = persentil, dan n = peringkat ordinal dari nilai yang diberikan (dengan nilai dalam kumpulan data diurutkan dari terkecil ke terbesar). Misalnya, ambil kelas yang terdiri dari 20 siswa yang memperoleh nilai berikut pada tes terbaru mereka: 75, 77, 78, 78, 80, 81, 81, 82, 83, 84, 84, 84, 85, 87, 87, 88, 88, 88, 89, 90. Skor ini dapat direpresentasikan sebagai kumpulan data dengan 20 nilai: {75, 77, 78, 78, 80, 81, 81, 82, 83, 84, 84, 84, 85, 87, 87, 88, 88, 88, 89, 90}.\n",
        "\n",
        "Kita dapat menemukan skor yang menandai persentil ke-20 dengan memasukkan nilai yang diketahui ke dalam rumus dan menyelesaikan n:\n",
        "\n",
        "n = (20/100) x 20\n",
        "\n",
        "n = 4\n",
        "\n",
        "Nilai keempat dalam kumpulan data adalah skor 78. Ini berarti bahwa 78 menandai persentil ke-20; dari siswa di kelas, 20 persen memperoleh skor 78 atau lebih rendah.\n",
        "\n"
      ],
      "metadata": {
        "id": "KHzOiGad8g9h"
      }
    },
    {
      "cell_type": "code",
      "source": [
        "a = np.array([[30,40,70],[80,20,10],[50,90,60]])\n",
        "\n",
        "print('Array Asli:')\n",
        "print(a)\n",
        "print('\\n')\n",
        "\n",
        "print('menggunakan percentile() function:')\n",
        "print(np.percentile(a, 50))\n",
        "print('\\n')\n",
        "\n",
        "print('Mengurutkan Array:')\n",
        "print(np.sort(a, axis=None))\n",
        "print('\\n')\n",
        "\n",
        "print('menggunakan percentile function di sumbu 1:')\n",
        "print(np.sort(a, axis=1))\n",
        "print('\\n')\n",
        "print(np.percentile(a,50, axis=1))\n",
        "print('\\n')\n",
        "\n",
        "print('menggunakan percentile function di sumbu 0:')\n",
        "print(np.sort(a, axis=0))\n",
        "print('\\n')\n",
        "print(np.percentile(a,50, axis=0))\n",
        "print('\\n')"
      ],
      "metadata": {
        "colab": {
          "base_uri": "https://localhost:8080/"
        },
        "id": "GVbty-6T8sG6",
        "outputId": "44f63e39-cc65-46c8-a684-be20c2a141e8"
      },
      "execution_count": 13,
      "outputs": [
        {
          "output_type": "stream",
          "name": "stdout",
          "text": [
            "Array Asli:\n",
            "[[30 40 70]\n",
            " [80 20 10]\n",
            " [50 90 60]]\n",
            "\n",
            "\n",
            "menggunakan percentile() function:\n",
            "50.0\n",
            "\n",
            "\n",
            "Mengurutkan Array:\n",
            "[10 20 30 40 50 60 70 80 90]\n",
            "\n",
            "\n",
            "menggunakan percentile function di sumbu 1:\n",
            "[[30 40 70]\n",
            " [10 20 80]\n",
            " [50 60 90]]\n",
            "\n",
            "\n",
            "[40. 20. 60.]\n",
            "\n",
            "\n",
            "menggunakan percentile function di sumbu 0:\n",
            "[[30 20 10]\n",
            " [50 40 60]\n",
            " [80 90 70]]\n",
            "\n",
            "\n",
            "[50. 40. 60.]\n",
            "\n",
            "\n"
          ]
        }
      ]
    },
    {
      "cell_type": "markdown",
      "source": [
        "Median didefinisikan sebagai nilai yg memisahkan bagian dari yg lebih tinggi data dari bagian yg lebih rendah, dan bisa di hitung menggunakan numpy.median"
      ],
      "metadata": {
        "id": "Vb6X7hL8oakZ"
      }
    },
    {
      "cell_type": "code",
      "source": [
        "a = np.array([[30,65,70],[80,95,10],[50,90,60]])\n",
        "\n",
        "print('Array Asli:')\n",
        "print(a)\n",
        "print('\\n')\n",
        "\n",
        "print('Menggunakan Median Function():')\n",
        "print(np.median(a))\n",
        "print('\\n')\n",
        "\n",
        "print('Menggunakan Median Function() dengan perspektif Colum:')\n",
        "print(np.median(a, axis=1))\n",
        "print('\\n')\n",
        "\n",
        "print('Menggunakan Median Function() dengan perspektif Baris:')\n",
        "print(np.median(a, axis=0))\n",
        "print('\\n')"
      ],
      "metadata": {
        "colab": {
          "base_uri": "https://localhost:8080/"
        },
        "id": "ZDu6V3ykovS3",
        "outputId": "82daddb9-318c-4ba7-edf6-590d7bf07586"
      },
      "execution_count": 20,
      "outputs": [
        {
          "output_type": "stream",
          "name": "stdout",
          "text": [
            "Array Asli:\n",
            "[[30 65 70]\n",
            " [80 95 10]\n",
            " [50 90 60]]\n",
            "\n",
            "\n",
            "Menggunakan Median Function():\n",
            "65.0\n",
            "\n",
            "\n",
            "Menggunakan Median Function() dengan perspektif Colum:\n",
            "[65. 80. 60.]\n",
            "\n",
            "\n",
            "Menggunakan Median Function() dengan perspektif Baris:\n",
            "[50. 90. 60.]\n",
            "\n",
            "\n"
          ]
        }
      ]
    },
    {
      "cell_type": "markdown",
      "source": [
        "Rata-Rata(Mean) adalah jumlah elemen sepanjang sumbu dibagi dengan jumlah elemen. Fungsi Numpy.mean() mengembalikan mean aritmatika elemen dalam array. Jika sumbu disebutkan secara eksplisit, maka akan dihitung berdasarkan nilai sumbunya."
      ],
      "metadata": {
        "id": "9Z7P7yQDq2VB"
      }
    },
    {
      "cell_type": "code",
      "source": [
        "a = np.array([[1,2,3],[3,4,5],[4,5,6]])\n",
        "\n",
        "print('Array Asli:')\n",
        "print(a)\n",
        "print('\\n')\n",
        "\n",
        "print('Menggunakan Mean() function:')\n",
        "print(np.mean(a))\n",
        "print('\\n')\n",
        "\n",
        "print('Menggunakan mean() function berdasarkan perspektif colum:')\n",
        "print(np.mean(a, axis=1))\n",
        "print('\\n')\n",
        "\n",
        "print('Menggunakan mean() function berdasarkan perspektif baris:')\n",
        "print(np.mean(a, axis=0))\n",
        "print('\\n')"
      ],
      "metadata": {
        "colab": {
          "base_uri": "https://localhost:8080/"
        },
        "id": "DOkV_TWmrTxS",
        "outputId": "62f2657a-08c9-4763-bd8d-39dc5cc78219"
      },
      "execution_count": 25,
      "outputs": [
        {
          "output_type": "stream",
          "name": "stdout",
          "text": [
            "Array Asli:\n",
            "[[1 2 3]\n",
            " [3 4 5]\n",
            " [4 5 6]]\n",
            "\n",
            "\n",
            "Menggunakan Mean() function:\n",
            "3.6666666666666665\n",
            "\n",
            "\n",
            "Menggunakan mean() function berdasarkan perspektif colum:\n",
            "[2. 4. 5.]\n",
            "\n",
            "\n",
            "Menggunakan mean() function berdasarkan perspektif baris:\n",
            "[2.66666667 3.66666667 4.66666667]\n",
            "\n",
            "\n"
          ]
        }
      ]
    },
    {
      "cell_type": "markdown",
      "source": [
        "Rata-rata tertimbang adalah rata-rata yang dihasilkan dari perkalian setiap komponen dengan faktor yang mencerminkan kepentingannya. Fungsi numpy.average() menghitung rata-rata tertimbang elemen dalam array sesuai dengan bobot masing-masing yang diberikan dalam array lain. Fungsi dapat memiliki parameter sumbu. Jika sumbu tidak ditentukan, array diratakan.\n",
        "\n",
        "Mempertimbangkan array [1,2,3,4] dan bobot yang sesuai [4,3,2,1], rata-rata tertimbang dihitung dengan menambahkan produk dari elemen yang sesuai dan membagi jumlah dengan jumlah bobot.\n",
        "\n",
        "Rata-rata tertimbang = (14+23+32+41)/(4+3+2+1)"
      ],
      "metadata": {
        "id": "Z0NDwoyVyBsE"
      }
    },
    {
      "cell_type": "code",
      "source": [
        "a = np.array([1,2,3,4])\n",
        "\n",
        "print('Array Asli:')\n",
        "print(a)\n",
        "print('\\n')\n",
        "\n",
        "print('Menggunakan average() function:')\n",
        "print(np.average(a))\n",
        "print('\\n')\n",
        "\n",
        "# this is same as mean when is not specified\n",
        "wts = np.array([4,3,2,1])\n",
        "\n",
        "print('Menggunakan average() function:')\n",
        "print(np.average(a, weights=wts))\n",
        "print('\\n')\n",
        "\n",
        "# Return the sum of weights, if the returend parameter is set to true\n",
        "print('Sum of wights:')\n",
        "print(np.average(a, weights= [4,3,2,1], returned=True))"
      ],
      "metadata": {
        "colab": {
          "base_uri": "https://localhost:8080/"
        },
        "id": "fbc-34OuyCzj",
        "outputId": "cf181600-86ca-4295-d8b6-ff8897702f30"
      },
      "execution_count": 30,
      "outputs": [
        {
          "output_type": "stream",
          "name": "stdout",
          "text": [
            "Array Asli:\n",
            "[1 2 3 4]\n",
            "\n",
            "\n",
            "Menggunakan average() function:\n",
            "2.5\n",
            "\n",
            "\n",
            "Menggunakan average() function:\n",
            "2.0\n",
            "\n",
            "\n",
            "Sum of wights:\n",
            "(2.0, 10.0)\n"
          ]
        }
      ]
    },
    {
      "cell_type": "markdown",
      "source": [
        "Standar deviasi adalah ukuran seberapa tersebar data dalam kaitannya dengan mean. Standar deviasi rendah berarti data mengelompokan di sekitar rata-rata, dan standar deviasi tinggi menunjukkan data lebih tersebar"
      ],
      "metadata": {
        "id": "LH-XVy9P0Slm"
      }
    },
    {
      "cell_type": "code",
      "source": [
        "np.std([1,3,5,7])"
      ],
      "metadata": {
        "colab": {
          "base_uri": "https://localhost:8080/"
        },
        "id": "oPOfFYxM26R4",
        "outputId": "a1cd0fbe-390a-4b10-a225-23bd4514bcd1"
      },
      "execution_count": 32,
      "outputs": [
        {
          "output_type": "execute_result",
          "data": {
            "text/plain": [
              "2.23606797749979"
            ]
          },
          "metadata": {},
          "execution_count": 32
        }
      ]
    },
    {
      "cell_type": "markdown",
      "source": [
        "Varians adalah ukuran variabilitas. ini di hitung dengan mengambil rata-rata deviasi kuadrat dari mean. Varians memberitahu anda tingkat penyebaran dalam kumpulan data anda. semakin menyebar data, semakin besar varians dalam kaitannya dengan mean."
      ],
      "metadata": {
        "id": "02rUqfN_3EO3"
      }
    },
    {
      "cell_type": "code",
      "source": [
        "print(np.var([1,3,5,7]))"
      ],
      "metadata": {
        "colab": {
          "base_uri": "https://localhost:8080/"
        },
        "id": "CGlPqs2U4PT4",
        "outputId": "9f787a44-d64f-424e-8ba4-5971d0398534"
      },
      "execution_count": 33,
      "outputs": [
        {
          "output_type": "stream",
          "name": "stdout",
          "text": [
            "5.0\n"
          ]
        }
      ]
    },
    {
      "cell_type": "code",
      "source": [
        "np.sqrt(np.var([1,3,5,7]))"
      ],
      "metadata": {
        "colab": {
          "base_uri": "https://localhost:8080/"
        },
        "id": "GX5sLt1B4YRX",
        "outputId": "f0ab0181-11cd-4ab2-bb2b-9ef4a0ad737b"
      },
      "execution_count": 34,
      "outputs": [
        {
          "output_type": "execute_result",
          "data": {
            "text/plain": [
              "2.23606797749979"
            ]
          },
          "metadata": {},
          "execution_count": 34
        }
      ]
    },
    {
      "cell_type": "markdown",
      "source": [
        "Standar deviasi mengukur seberapa jauh angka-angka dalam kumpulan data. Varians, di sisi lain, memberikan nilai aktual seberapa banyak angka dalam kumpulan data bervariasi dari rata-rata."
      ],
      "metadata": {
        "id": "KIRckGZQ4fPG"
      }
    }
  ]
}